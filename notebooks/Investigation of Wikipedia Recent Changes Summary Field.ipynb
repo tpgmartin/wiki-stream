{
 "cells": [
  {
   "cell_type": "markdown",
   "metadata": {},
   "source": [
    "# Investigation of Wikipedia Recent Changes Summary Field"
   ]
  },
  {
   "cell_type": "code",
   "execution_count": 1,
   "metadata": {
    "collapsed": true
   },
   "outputs": [],
   "source": [
    "import matplotlib.pyplot as plt\n",
    "import nltk\n",
    "from nltk import word_tokenize\n",
    "from nltk.corpus import stopwords\n",
    "from nltk.corpus import wordnet\n",
    "from nltk.stem.wordnet import WordNetLemmatizer\n",
    "import numpy as np\n",
    "import pandas as pd\n",
    "import re\n",
    "from scipy.stats import skew\n",
    "from sklearn.feature_extraction.text import TfidfVectorizer\n",
    "import warnings\n",
    "warnings.filterwarnings('ignore')"
   ]
  },
  {
   "cell_type": "markdown",
   "metadata": {},
   "source": [
    "## EDA"
   ]
  },
  {
   "cell_type": "code",
   "execution_count": 2,
   "metadata": {
    "collapsed": true
   },
   "outputs": [],
   "source": [
    "data = pd.read_json(\"../data/dump.json\")"
   ]
  },
  {
   "cell_type": "markdown",
   "metadata": {},
   "source": [
    "There are over 7,900 messages in the data dump."
   ]
  },
  {
   "cell_type": "code",
   "execution_count": 3,
   "metadata": {},
   "outputs": [
    {
     "data": {
      "text/plain": [
       "(7949, 19)"
      ]
     },
     "execution_count": 3,
     "metadata": {},
     "output_type": "execute_result"
    }
   ],
   "source": [
    "data.shape"
   ]
  },
  {
   "cell_type": "code",
   "execution_count": 4,
   "metadata": {},
   "outputs": [
    {
     "data": {
      "text/html": [
       "<div>\n",
       "<style scoped>\n",
       "    .dataframe tbody tr th:only-of-type {\n",
       "        vertical-align: middle;\n",
       "    }\n",
       "\n",
       "    .dataframe tbody tr th {\n",
       "        vertical-align: top;\n",
       "    }\n",
       "\n",
       "    .dataframe thead th {\n",
       "        text-align: right;\n",
       "    }\n",
       "</style>\n",
       "<table border=\"1\" class=\"dataframe\">\n",
       "  <thead>\n",
       "    <tr style=\"text-align: right;\">\n",
       "      <th></th>\n",
       "      <th>action</th>\n",
       "      <th>change_size</th>\n",
       "      <th>flags</th>\n",
       "      <th>geo_ip</th>\n",
       "      <th>hashtags</th>\n",
       "      <th>is_anon</th>\n",
       "      <th>is_bot</th>\n",
       "      <th>is_minor</th>\n",
       "      <th>is_new</th>\n",
       "      <th>is_unpatrolled</th>\n",
       "      <th>mentions</th>\n",
       "      <th>ns</th>\n",
       "      <th>page_title</th>\n",
       "      <th>parent_rev_id</th>\n",
       "      <th>rev_id</th>\n",
       "      <th>summary</th>\n",
       "      <th>timestamp</th>\n",
       "      <th>url</th>\n",
       "      <th>user</th>\n",
       "    </tr>\n",
       "  </thead>\n",
       "  <tbody>\n",
       "    <tr>\n",
       "      <th>0</th>\n",
       "      <td>edit</td>\n",
       "      <td>377.0</td>\n",
       "      <td>None</td>\n",
       "      <td>NaN</td>\n",
       "      <td>[]</td>\n",
       "      <td>False</td>\n",
       "      <td>False</td>\n",
       "      <td>False</td>\n",
       "      <td>False</td>\n",
       "      <td>False</td>\n",
       "      <td>[]</td>\n",
       "      <td>Talk</td>\n",
       "      <td>Talk:Bajadasaurus</td>\n",
       "      <td>883357329.0</td>\n",
       "      <td>883356516.0</td>\n",
       "      <td>/* Images */</td>\n",
       "      <td>2019-02-14 22:43:57.810307</td>\n",
       "      <td>https://en.wikipedia.org/w/index.php?diff=8833...</td>\n",
       "      <td>FunkMonk</td>\n",
       "    </tr>\n",
       "    <tr>\n",
       "      <th>1</th>\n",
       "      <td>edit</td>\n",
       "      <td>-66.0</td>\n",
       "      <td>None</td>\n",
       "      <td>NaN</td>\n",
       "      <td>[]</td>\n",
       "      <td>False</td>\n",
       "      <td>False</td>\n",
       "      <td>False</td>\n",
       "      <td>False</td>\n",
       "      <td>False</td>\n",
       "      <td>[]</td>\n",
       "      <td>Main</td>\n",
       "      <td>The King of Fighters: Maximum Impact</td>\n",
       "      <td>883357327.0</td>\n",
       "      <td>883220913.0</td>\n",
       "      <td>None</td>\n",
       "      <td>2019-02-14 22:43:58.168588</td>\n",
       "      <td>https://en.wikipedia.org/w/index.php?diff=8833...</td>\n",
       "      <td>Benjaminkirsc</td>\n",
       "    </tr>\n",
       "    <tr>\n",
       "      <th>2</th>\n",
       "      <td>edit</td>\n",
       "      <td>-4635.0</td>\n",
       "      <td>B</td>\n",
       "      <td>NaN</td>\n",
       "      <td>[]</td>\n",
       "      <td>False</td>\n",
       "      <td>True</td>\n",
       "      <td>False</td>\n",
       "      <td>False</td>\n",
       "      <td>False</td>\n",
       "      <td>[]</td>\n",
       "      <td>User</td>\n",
       "      <td>User:AlexNewArtBot/WomensHistorySearchResult</td>\n",
       "      <td>883357322.0</td>\n",
       "      <td>883032645.0</td>\n",
       "      <td>most recent results, added 113, removed 145, t...</td>\n",
       "      <td>2019-02-14 22:43:58.324169</td>\n",
       "      <td>https://en.wikipedia.org/w/index.php?diff=8833...</td>\n",
       "      <td>InceptionBot</td>\n",
       "    </tr>\n",
       "    <tr>\n",
       "      <th>3</th>\n",
       "      <td>edit</td>\n",
       "      <td>1.0</td>\n",
       "      <td>None</td>\n",
       "      <td>NaN</td>\n",
       "      <td>[]</td>\n",
       "      <td>False</td>\n",
       "      <td>False</td>\n",
       "      <td>False</td>\n",
       "      <td>False</td>\n",
       "      <td>False</td>\n",
       "      <td>[]</td>\n",
       "      <td>Template</td>\n",
       "      <td>Template:Samoa-party-stub</td>\n",
       "      <td>883357331.0</td>\n",
       "      <td>398617982.0</td>\n",
       "      <td>None</td>\n",
       "      <td>2019-02-14 22:43:58.613009</td>\n",
       "      <td>https://en.wikipedia.org/w/index.php?diff=8833...</td>\n",
       "      <td>HapHaxion</td>\n",
       "    </tr>\n",
       "    <tr>\n",
       "      <th>4</th>\n",
       "      <td>edit</td>\n",
       "      <td>37.0</td>\n",
       "      <td>None</td>\n",
       "      <td>NaN</td>\n",
       "      <td>[]</td>\n",
       "      <td>False</td>\n",
       "      <td>False</td>\n",
       "      <td>False</td>\n",
       "      <td>False</td>\n",
       "      <td>False</td>\n",
       "      <td>[]</td>\n",
       "      <td>Main</td>\n",
       "      <td>Persela Lamongan</td>\n",
       "      <td>883357330.0</td>\n",
       "      <td>883030131.0</td>\n",
       "      <td>None</td>\n",
       "      <td>2019-02-14 22:43:58.668958</td>\n",
       "      <td>https://en.wikipedia.org/w/index.php?diff=8833...</td>\n",
       "      <td>Afria Nuswantara</td>\n",
       "    </tr>\n",
       "  </tbody>\n",
       "</table>\n",
       "</div>"
      ],
      "text/plain": [
       "  action  change_size flags geo_ip hashtags  is_anon  is_bot  is_minor  \\\n",
       "0   edit        377.0  None    NaN       []    False   False     False   \n",
       "1   edit        -66.0  None    NaN       []    False   False     False   \n",
       "2   edit      -4635.0     B    NaN       []    False    True     False   \n",
       "3   edit          1.0  None    NaN       []    False   False     False   \n",
       "4   edit         37.0  None    NaN       []    False   False     False   \n",
       "\n",
       "   is_new  is_unpatrolled mentions        ns  \\\n",
       "0   False           False       []      Talk   \n",
       "1   False           False       []      Main   \n",
       "2   False           False       []      User   \n",
       "3   False           False       []  Template   \n",
       "4   False           False       []      Main   \n",
       "\n",
       "                                     page_title  parent_rev_id       rev_id  \\\n",
       "0                             Talk:Bajadasaurus    883357329.0  883356516.0   \n",
       "1          The King of Fighters: Maximum Impact    883357327.0  883220913.0   \n",
       "2  User:AlexNewArtBot/WomensHistorySearchResult    883357322.0  883032645.0   \n",
       "3                     Template:Samoa-party-stub    883357331.0  398617982.0   \n",
       "4                              Persela Lamongan    883357330.0  883030131.0   \n",
       "\n",
       "                                             summary  \\\n",
       "0                                       /* Images */   \n",
       "1                                               None   \n",
       "2  most recent results, added 113, removed 145, t...   \n",
       "3                                               None   \n",
       "4                                               None   \n",
       "\n",
       "                   timestamp  \\\n",
       "0 2019-02-14 22:43:57.810307   \n",
       "1 2019-02-14 22:43:58.168588   \n",
       "2 2019-02-14 22:43:58.324169   \n",
       "3 2019-02-14 22:43:58.613009   \n",
       "4 2019-02-14 22:43:58.668958   \n",
       "\n",
       "                                                 url              user  \n",
       "0  https://en.wikipedia.org/w/index.php?diff=8833...          FunkMonk  \n",
       "1  https://en.wikipedia.org/w/index.php?diff=8833...     Benjaminkirsc  \n",
       "2  https://en.wikipedia.org/w/index.php?diff=8833...      InceptionBot  \n",
       "3  https://en.wikipedia.org/w/index.php?diff=8833...         HapHaxion  \n",
       "4  https://en.wikipedia.org/w/index.php?diff=8833...  Afria Nuswantara  "
      ]
     },
     "execution_count": 4,
     "metadata": {},
     "output_type": "execute_result"
    }
   ],
   "source": [
    "data.head()"
   ]
  },
  {
   "cell_type": "code",
   "execution_count": 5,
   "metadata": {},
   "outputs": [
    {
     "data": {
      "text/html": [
       "<div>\n",
       "<style scoped>\n",
       "    .dataframe tbody tr th:only-of-type {\n",
       "        vertical-align: middle;\n",
       "    }\n",
       "\n",
       "    .dataframe tbody tr th {\n",
       "        vertical-align: top;\n",
       "    }\n",
       "\n",
       "    .dataframe thead th {\n",
       "        text-align: right;\n",
       "    }\n",
       "</style>\n",
       "<table border=\"1\" class=\"dataframe\">\n",
       "  <thead>\n",
       "    <tr style=\"text-align: right;\">\n",
       "      <th></th>\n",
       "      <th>action</th>\n",
       "      <th>change_size</th>\n",
       "      <th>flags</th>\n",
       "      <th>geo_ip</th>\n",
       "      <th>hashtags</th>\n",
       "      <th>is_anon</th>\n",
       "      <th>is_bot</th>\n",
       "      <th>is_minor</th>\n",
       "      <th>is_new</th>\n",
       "      <th>is_unpatrolled</th>\n",
       "      <th>mentions</th>\n",
       "      <th>ns</th>\n",
       "      <th>page_title</th>\n",
       "      <th>parent_rev_id</th>\n",
       "      <th>rev_id</th>\n",
       "      <th>summary</th>\n",
       "      <th>timestamp</th>\n",
       "      <th>url</th>\n",
       "      <th>user</th>\n",
       "    </tr>\n",
       "  </thead>\n",
       "  <tbody>\n",
       "    <tr>\n",
       "      <th>7944</th>\n",
       "      <td>edit</td>\n",
       "      <td>-6.0</td>\n",
       "      <td>None</td>\n",
       "      <td>NaN</td>\n",
       "      <td>[]</td>\n",
       "      <td>False</td>\n",
       "      <td>False</td>\n",
       "      <td>False</td>\n",
       "      <td>False</td>\n",
       "      <td>False</td>\n",
       "      <td>[]</td>\n",
       "      <td>Template</td>\n",
       "      <td>Template:New Jersey State Senators</td>\n",
       "      <td>883364554.0</td>\n",
       "      <td>880713885.0</td>\n",
       "      <td>None</td>\n",
       "      <td>2019-02-14 23:43:53.182064</td>\n",
       "      <td>https://en.wikipedia.org/w/index.php?diff=8833...</td>\n",
       "      <td>Muboshgu</td>\n",
       "    </tr>\n",
       "    <tr>\n",
       "      <th>7945</th>\n",
       "      <td>edit</td>\n",
       "      <td>77.0</td>\n",
       "      <td>M</td>\n",
       "      <td>NaN</td>\n",
       "      <td>[]</td>\n",
       "      <td>False</td>\n",
       "      <td>False</td>\n",
       "      <td>True</td>\n",
       "      <td>False</td>\n",
       "      <td>False</td>\n",
       "      <td>[]</td>\n",
       "      <td>Main</td>\n",
       "      <td>Paulo Gazzaniga</td>\n",
       "      <td>883364555.0</td>\n",
       "      <td>882837596.0</td>\n",
       "      <td>None</td>\n",
       "      <td>2019-02-14 23:43:55.498175</td>\n",
       "      <td>https://en.wikipedia.org/w/index.php?diff=8833...</td>\n",
       "      <td>Car rush 1</td>\n",
       "    </tr>\n",
       "    <tr>\n",
       "      <th>7946</th>\n",
       "      <td>edit</td>\n",
       "      <td>30.0</td>\n",
       "      <td>N</td>\n",
       "      <td>NaN</td>\n",
       "      <td>[]</td>\n",
       "      <td>False</td>\n",
       "      <td>False</td>\n",
       "      <td>False</td>\n",
       "      <td>True</td>\n",
       "      <td>False</td>\n",
       "      <td>[]</td>\n",
       "      <td>Main</td>\n",
       "      <td>Inun-onan</td>\n",
       "      <td>NaN</td>\n",
       "      <td>883364557.0</td>\n",
       "      <td>[[WP:AES|←]]Redirected page to [[Paksiw#Inun-u...</td>\n",
       "      <td>2019-02-14 23:43:55.966439</td>\n",
       "      <td>https://en.wikipedia.org/w/index.php?oldid=883...</td>\n",
       "      <td>Obsidian Soul</td>\n",
       "    </tr>\n",
       "    <tr>\n",
       "      <th>7947</th>\n",
       "      <td>edit</td>\n",
       "      <td>-1.0</td>\n",
       "      <td>None</td>\n",
       "      <td>{'city': 'Miami', 'country_name': 'United Stat...</td>\n",
       "      <td>[]</td>\n",
       "      <td>True</td>\n",
       "      <td>False</td>\n",
       "      <td>False</td>\n",
       "      <td>False</td>\n",
       "      <td>False</td>\n",
       "      <td>[]</td>\n",
       "      <td>Main</td>\n",
       "      <td>W. A. Martin</td>\n",
       "      <td>883364556.0</td>\n",
       "      <td>803817668.0</td>\n",
       "      <td>None</td>\n",
       "      <td>2019-02-14 23:43:56.318894</td>\n",
       "      <td>https://en.wikipedia.org/w/index.php?diff=8833...</td>\n",
       "      <td>2601:586:4104:6907:1E1:4F96:64E6:D917</td>\n",
       "    </tr>\n",
       "    <tr>\n",
       "      <th>7948</th>\n",
       "      <td>edit</td>\n",
       "      <td>7.0</td>\n",
       "      <td>MB</td>\n",
       "      <td>NaN</td>\n",
       "      <td>[]</td>\n",
       "      <td>False</td>\n",
       "      <td>True</td>\n",
       "      <td>True</td>\n",
       "      <td>False</td>\n",
       "      <td>False</td>\n",
       "      <td>[]</td>\n",
       "      <td>Main</td>\n",
       "      <td>Bruce Mayrock</td>\n",
       "      <td>883364558.0</td>\n",
       "      <td>878429616.0</td>\n",
       "      <td>Bot: Fixing double redirect to [[Nigerian Civi...</td>\n",
       "      <td>2019-02-14 23:43:57.136671</td>\n",
       "      <td>https://en.wikipedia.org/w/index.php?diff=8833...</td>\n",
       "      <td>EmausBot</td>\n",
       "    </tr>\n",
       "  </tbody>\n",
       "</table>\n",
       "</div>"
      ],
      "text/plain": [
       "     action  change_size flags  \\\n",
       "7944   edit         -6.0  None   \n",
       "7945   edit         77.0     M   \n",
       "7946   edit         30.0     N   \n",
       "7947   edit         -1.0  None   \n",
       "7948   edit          7.0    MB   \n",
       "\n",
       "                                                 geo_ip hashtags  is_anon  \\\n",
       "7944                                                NaN       []    False   \n",
       "7945                                                NaN       []    False   \n",
       "7946                                                NaN       []    False   \n",
       "7947  {'city': 'Miami', 'country_name': 'United Stat...       []     True   \n",
       "7948                                                NaN       []    False   \n",
       "\n",
       "      is_bot  is_minor  is_new  is_unpatrolled mentions        ns  \\\n",
       "7944   False     False   False           False       []  Template   \n",
       "7945   False      True   False           False       []      Main   \n",
       "7946   False     False    True           False       []      Main   \n",
       "7947   False     False   False           False       []      Main   \n",
       "7948    True      True   False           False       []      Main   \n",
       "\n",
       "                              page_title  parent_rev_id       rev_id  \\\n",
       "7944  Template:New Jersey State Senators    883364554.0  880713885.0   \n",
       "7945                     Paulo Gazzaniga    883364555.0  882837596.0   \n",
       "7946                           Inun-onan            NaN  883364557.0   \n",
       "7947                        W. A. Martin    883364556.0  803817668.0   \n",
       "7948                       Bruce Mayrock    883364558.0  878429616.0   \n",
       "\n",
       "                                                summary  \\\n",
       "7944                                               None   \n",
       "7945                                               None   \n",
       "7946  [[WP:AES|←]]Redirected page to [[Paksiw#Inun-u...   \n",
       "7947                                               None   \n",
       "7948  Bot: Fixing double redirect to [[Nigerian Civi...   \n",
       "\n",
       "                      timestamp  \\\n",
       "7944 2019-02-14 23:43:53.182064   \n",
       "7945 2019-02-14 23:43:55.498175   \n",
       "7946 2019-02-14 23:43:55.966439   \n",
       "7947 2019-02-14 23:43:56.318894   \n",
       "7948 2019-02-14 23:43:57.136671   \n",
       "\n",
       "                                                    url  \\\n",
       "7944  https://en.wikipedia.org/w/index.php?diff=8833...   \n",
       "7945  https://en.wikipedia.org/w/index.php?diff=8833...   \n",
       "7946  https://en.wikipedia.org/w/index.php?oldid=883...   \n",
       "7947  https://en.wikipedia.org/w/index.php?diff=8833...   \n",
       "7948  https://en.wikipedia.org/w/index.php?diff=8833...   \n",
       "\n",
       "                                       user  \n",
       "7944                               Muboshgu  \n",
       "7945                             Car rush 1  \n",
       "7946                          Obsidian Soul  \n",
       "7947  2601:586:4104:6907:1E1:4F96:64E6:D917  \n",
       "7948                               EmausBot  "
      ]
     },
     "execution_count": 5,
     "metadata": {},
     "output_type": "execute_result"
    }
   ],
   "source": [
    "data.tail()"
   ]
  },
  {
   "cell_type": "markdown",
   "metadata": {},
   "source": [
    "The dataset was collected over an hour long period from approximately 22:43-23:43 14th February 2019."
   ]
  },
  {
   "cell_type": "code",
   "execution_count": 6,
   "metadata": {},
   "outputs": [
    {
     "name": "stdout",
     "output_type": "stream",
     "text": [
      "Starting timestamp 2019-02-14 22:43:57.810307\n",
      "Ending timestamp 2019-02-14 23:43:57.136671\n"
     ]
    }
   ],
   "source": [
    "print(\"Starting timestamp\", data.timestamp.min())\n",
    "print(\"Ending timestamp\", data.timestamp.max())"
   ]
  },
  {
   "cell_type": "markdown",
   "metadata": {},
   "source": [
    "The dataset contains messages relating to the English language site only, as far as can be determined."
   ]
  },
  {
   "cell_type": "code",
   "execution_count": 7,
   "metadata": {},
   "outputs": [
    {
     "data": {
      "text/plain": [
       "(7008, 19)"
      ]
     },
     "execution_count": 7,
     "metadata": {},
     "output_type": "execute_result"
    }
   ],
   "source": [
    "data[data.url.str.contains(\"en.wikipedia.org\") == True].shape"
   ]
  },
  {
   "cell_type": "code",
   "execution_count": 8,
   "metadata": {},
   "outputs": [
    {
     "data": {
      "text/plain": [
       "(941, 19)"
      ]
     },
     "execution_count": 8,
     "metadata": {},
     "output_type": "execute_result"
    }
   ],
   "source": [
    "data[data.url.str.contains(\"en.wikipedia.org\").isnull()].shape"
   ]
  },
  {
   "cell_type": "markdown",
   "metadata": {},
   "source": [
    "## Edits by User Category"
   ]
  },
  {
   "cell_type": "markdown",
   "metadata": {},
   "source": [
    "For this report, only want to consider edits to main articles submitted by people rather than bots"
   ]
  },
  {
   "cell_type": "code",
   "execution_count": 9,
   "metadata": {},
   "outputs": [
    {
     "data": {
      "text/plain": [
       "False    3462\n",
       "True     1007\n",
       "Name: is_anon, dtype: int64"
      ]
     },
     "execution_count": 9,
     "metadata": {},
     "output_type": "execute_result"
    }
   ],
   "source": [
    "main_articles = data[(data.ns == \"Main\") & (data.is_bot == False)]\n",
    "main_articles.is_anon.value_counts()"
   ]
  },
  {
   "cell_type": "code",
   "execution_count": 10,
   "metadata": {},
   "outputs": [
    {
     "data": {
      "text/plain": [
       "False    3577\n",
       "True      892\n",
       "Name: summary, dtype: int64"
      ]
     },
     "execution_count": 10,
     "metadata": {},
     "output_type": "execute_result"
    }
   ],
   "source": [
    "main_articles.summary.isnull().value_counts()"
   ]
  },
  {
   "cell_type": "code",
   "execution_count": 11,
   "metadata": {
    "collapsed": true
   },
   "outputs": [],
   "source": [
    "unregistered_users = main_articles[main_articles.is_anon == True]\n",
    "registered_users = main_articles[main_articles.is_anon == False]"
   ]
  },
  {
   "cell_type": "markdown",
   "metadata": {},
   "source": [
    "## Messages without Summary Field by User Category"
   ]
  },
  {
   "cell_type": "code",
   "execution_count": 12,
   "metadata": {},
   "outputs": [
    {
     "data": {
      "image/png": "[encoded data removed]",
      "text/plain": [
       "<Figure size 432x288 with 1 Axes>"
      ]
     },
     "metadata": {},
     "output_type": "display_data"
    }
   ],
   "source": [
    "users_with_summary = [unregistered_users[~unregistered_users.summary.isnull()].shape[0], registered_users[~registered_users.summary.isnull()].shape[0]]\n",
    "users_without_summary = [unregistered_users[unregistered_users.summary.isnull()].shape[0], registered_users[registered_users.summary.isnull()].shape[0]]\n",
    "\n",
    "totals = [i+j for i,j in zip(users_with_summary,users_without_summary)]\n",
    "\n",
    "with_summary = [i / j * 100 for i,j in zip(users_with_summary, totals)]\n",
    "without_summary = [i / j * 100 for i,j in zip(users_without_summary, totals)]\n",
    "\n",
    "xticks = [0,1]\n",
    "plt.bar(xticks, with_summary)\n",
    "plt.bar(xticks, without_summary, bottom=with_summary)\n",
    " \n",
    "plt.title(\"Percentage of Messages without Summary Field by User Category\", fontsize=14, pad=20)\n",
    "plt.xticks(xticks, [\"Unregistered\",\"Registered\"])\n",
    "plt.ylabel(\"Percentage (%)\")\n",
    "plt.legend([\"Has Summary\", \"No Summary\"], bbox_to_anchor=(1, 1), loc=\"upper left\")\n",
    "\n",
    "\n",
    "plt.show()"
   ]
  },
  {
   "cell_type": "markdown",
   "metadata": {},
   "source": [
    "## Top Verbs used in Summary Field by User Category"
   ]
  },
  {
   "cell_type": "code",
   "execution_count": 13,
   "metadata": {
    "collapsed": true
   },
   "outputs": [],
   "source": [
    "unregistered_users_with_summary = unregistered_users[~unregistered_users.summary.isnull()]\n",
    "registered_users_with_summary = registered_users[~registered_users.summary.isnull()]"
   ]
  },
  {
   "cell_type": "code",
   "execution_count": 14,
   "metadata": {
    "collapsed": true
   },
   "outputs": [],
   "source": [
    "def parse_and_tokenize(summary):\n",
    "    \n",
    "    # parse summary, remove text contained in brackets and special symbols\n",
    "    # this is assumed to be metadata\n",
    "    summary = re.sub(\"[\\(\\[\\/\\{].*?[\\}\\/\\)\\]]\", \"\", summary).strip()\n",
    "    # simplify analysis by only extract alphabetic characters and standardise casing\n",
    "    summary = \" \".join(re.findall(\"[a-zA-Z]+\", summary))\n",
    "    summary = summary.lower()\n",
    "\n",
    "    # get verbs only based on POS-tag\n",
    "    is_verb = lambda pos: pos[:2] == \"VB\"\n",
    "    tokenized = nltk.word_tokenize(summary)\n",
    "    verbs = [word for (word, pos) in nltk.pos_tag(tokenized) if is_verb(pos)]\n",
    "    \n",
    "    return verbs\n",
    "    "
   ]
  },
  {
   "cell_type": "code",
   "execution_count": 15,
   "metadata": {
    "collapsed": true
   },
   "outputs": [],
   "source": [
    "# this step is separate from the lemmatizer step to make it easier to link tokens to original messages if required\n",
    "unregistered_users_with_summary[\"verbs\"] = unregistered_users_with_summary.summary.apply(parse_and_tokenize)\n",
    "registered_users_with_summary[\"verbs\"] = registered_users_with_summary.summary.apply(parse_and_tokenize)"
   ]
  },
  {
   "cell_type": "code",
   "execution_count": 16,
   "metadata": {
    "collapsed": true
   },
   "outputs": [],
   "source": [
    "# pass this to TfidfVectorizer below\n",
    "class Lemmatizer(object):\n",
    "    \n",
    "    def __init__(self):\n",
    "        self.lemmatizer = WordNetLemmatizer()\n",
    "\n",
    "    def __call__(self, verbs):\n",
    "        return [self.lemmatizer.lemmatize(verb, \"v\") for verb in verbs]"
   ]
  },
  {
   "cell_type": "code",
   "execution_count": 17,
   "metadata": {
    "collapsed": true
   },
   "outputs": [],
   "source": [
    "# a helper method to return sorted word tokens with corresponding IDFs\n",
    "def get_verbs_idf(verbs):\n",
    "\n",
    "    clf = TfidfVectorizer(tokenizer=Lemmatizer(), lowercase=False, stop_words=set(stopwords.words('english')))\n",
    "    clf.fit(verbs)\n",
    "\n",
    "    word2idf = dict(zip(clf.get_feature_names(), clf.idf_))\n",
    "    return sorted(word2idf.items(), key=lambda x: x[1], reverse=False)"
   ]
  },
  {
   "cell_type": "code",
   "execution_count": 18,
   "metadata": {
    "collapsed": true
   },
   "outputs": [],
   "source": [
    "unregistered_users_sorted_idf = get_verbs_idf(unregistered_users_with_summary[unregistered_users_with_summary.verbs.str.len() != 0].verbs)\n",
    "registered_users_sorted_idf = get_verbs_idf(registered_users_with_summary[registered_users_with_summary.verbs.str.len() != 0].verbs)"
   ]
  },
  {
   "cell_type": "code",
   "execution_count": 19,
   "metadata": {},
   "outputs": [
    {
     "data": {
      "text/plain": [
       "94"
      ]
     },
     "execution_count": 19,
     "metadata": {},
     "output_type": "execute_result"
    }
   ],
   "source": [
    "# total size of trained vocabularly for unregistered users\n",
    "len(unregistered_users_sorted_idf)"
   ]
  },
  {
   "cell_type": "code",
   "execution_count": 20,
   "metadata": {},
   "outputs": [
    {
     "data": {
      "text/plain": [
       "[('add', 2.3523928094442095),\n",
       " ('fix', 2.6933193964148026),\n",
       " ('remove', 3.163323025660538),\n",
       " ('correct', 3.6741486494265287),\n",
       " ('change', 3.9618307218783095),\n",
       " ('update', 3.9618307218783095),\n",
       " ('improve', 4.772760938094638),\n",
       " ('make', 4.772760938094638),\n",
       " ('miss', 4.772760938094638),\n",
       " ('edit', 5.060443010546419)]"
      ]
     },
     "execution_count": 20,
     "metadata": {},
     "output_type": "execute_result"
    }
   ],
   "source": [
    "# top 10 verbs by IDF\n",
    "unregistered_users_sorted_idf[:10]"
   ]
  },
  {
   "cell_type": "code",
   "execution_count": 21,
   "metadata": {},
   "outputs": [
    {
     "data": {
      "text/plain": [
       "359"
      ]
     },
     "execution_count": 21,
     "metadata": {},
     "output_type": "execute_result"
    }
   ],
   "source": [
    "# total size of trained vocabularly for registered users\n",
    "len(registered_users_sorted_idf)"
   ]
  },
  {
   "cell_type": "code",
   "execution_count": 22,
   "metadata": {},
   "outputs": [
    {
     "data": {
      "text/plain": [
       "[('add', 1.7867984561364523),\n",
       " ('revert', 3.1198379137207994),\n",
       " ('use', 3.152273189473953),\n",
       " ('fix', 3.9868320240837267),\n",
       " ('remove', 4.136772171374641),\n",
       " ('clean', 4.313228608716198),\n",
       " ('change', 4.922292672065602),\n",
       " ('create', 4.955082494888593),\n",
       " ('repair', 5.2207856606215985),\n",
       " ('surname', 5.2207856606215985)]"
      ]
     },
     "execution_count": 22,
     "metadata": {},
     "output_type": "execute_result"
    }
   ],
   "source": [
    "# top 10 verbs by IDF\n",
    "registered_users_sorted_idf[:10]"
   ]
  },
  {
   "cell_type": "code",
   "execution_count": 23,
   "metadata": {},
   "outputs": [],
   "source": [
    "# separeted list of tuples into two lists\n",
    "unregistered_users_verbs, unregistered_users_idfs = zip(*unregistered_users_sorted_idf)\n",
    "unregistered_users_verbs = list(unregistered_users_verbs)\n",
    "unregistered_users_idfs = list(unregistered_users_idfs)"
   ]
  },
  {
   "cell_type": "code",
   "execution_count": 24,
   "metadata": {},
   "outputs": [
    {
     "data": {
      "image/png": "[encoded data removed]",
      "text/plain": [
       "<Figure size 432x288 with 1 Axes>"
      ]
     },
     "metadata": {},
     "output_type": "display_data"
    }
   ],
   "source": [
    "fig, ax = plt.subplots()\n",
    "\n",
    "plt.bar(unregistered_users_verbs[:10], unregistered_users_idfs[:10])\n",
    "plt.xticks(rotation='vertical')\n",
    "plt.xlabel('Verb Root')\n",
    "plt.ylabel('IDF')\n",
    "plt.title('Top 10 Verbs in Summary Field by IDF for Unregistered Users', fontsize=14, pad=20)\n",
    "plt.show()"
   ]
  },
  {
   "cell_type": "code",
   "execution_count": 25,
   "metadata": {},
   "outputs": [
    {
     "data": {
      "image/png": "[encoded data removed]",
      "text/plain": [
       "<Figure size 432x288 with 1 Axes>"
      ]
     },
     "metadata": {},
     "output_type": "display_data"
    }
   ],
   "source": [
    "plt.hist(unregistered_users_idfs)\n",
    "plt.xticks(rotation='vertical')\n",
    "plt.xlabel('IDF')\n",
    "plt.ylabel('Frequency')\n",
    "plt.title('Distribution of IDF Values for Unregistered Users Verbs', fontsize=14, pad=20)\n",
    "plt.show()"
   ]
  },
  {
   "cell_type": "code",
   "execution_count": 26,
   "metadata": {},
   "outputs": [
    {
     "data": {
      "text/plain": [
       "5.465908118654584"
      ]
     },
     "execution_count": 26,
     "metadata": {},
     "output_type": "execute_result"
    }
   ],
   "source": [
    "np.median(unregistered_users_idfs)"
   ]
  },
  {
   "cell_type": "code",
   "execution_count": 27,
   "metadata": {},
   "outputs": [
    {
     "data": {
      "text/plain": [
       "-3.5318097708952405"
      ]
     },
     "execution_count": 27,
     "metadata": {},
     "output_type": "execute_result"
    }
   ],
   "source": [
    "skew(unregistered_users_idfs)"
   ]
  },
  {
   "cell_type": "code",
   "execution_count": 28,
   "metadata": {
    "collapsed": true
   },
   "outputs": [],
   "source": [
    "# separeted list of tuples into two lists\n",
    "registered_users_verbs, registered_users_idfs = zip(*registered_users_sorted_idf)\n",
    "registered_users_verbs = list(registered_users_verbs)\n",
    "registered_users_idfs = list(registered_users_idfs)"
   ]
  },
  {
   "cell_type": "code",
   "execution_count": 29,
   "metadata": {},
   "outputs": [
    {
     "data": {
      "image/png": "[encoded data removed]",
      "text/plain": [
       "<Figure size 432x288 with 1 Axes>"
      ]
     },
     "metadata": {},
     "output_type": "display_data"
    }
   ],
   "source": [
    "fig, ax = plt.subplots()\n",
    "\n",
    "plt.bar(registered_users_verbs[:10], registered_users_idfs[:10])\n",
    "plt.xticks(rotation='vertical')\n",
    "plt.xlabel('Verb Root')\n",
    "plt.ylabel('IDF')\n",
    "plt.title('Top 10 Verbs in Summary Field by IDF for Registered Users', fontsize=14, pad=20)\n",
    "plt.show()"
   ]
  },
  {
   "cell_type": "code",
   "execution_count": 30,
   "metadata": {},
   "outputs": [
    {
     "data": {
      "image/png": "[encoded data removed]",
      "text/plain": [
       "<Figure size 432x288 with 1 Axes>"
      ]
     },
     "metadata": {},
     "output_type": "display_data"
    }
   ],
   "source": [
    "plt.hist(registered_users_idfs)\n",
    "plt.xticks(rotation='vertical')\n",
    "plt.xlabel('IDF')\n",
    "plt.ylabel('Frequency')\n",
    "plt.title('Distribution of IDF Values for Registered Users Verbs', fontsize=14, pad=20)\n",
    "plt.show()"
   ]
  },
  {
   "cell_type": "code",
   "execution_count": 31,
   "metadata": {},
   "outputs": [
    {
     "data": {
      "text/plain": [
       "7.663132695990803"
      ]
     },
     "execution_count": 31,
     "metadata": {},
     "output_type": "execute_result"
    }
   ],
   "source": [
    "np.median(registered_users_idfs)"
   ]
  },
  {
   "cell_type": "code",
   "execution_count": 32,
   "metadata": {},
   "outputs": [
    {
     "data": {
      "text/plain": [
       "-3.280953116278115"
      ]
     },
     "execution_count": 32,
     "metadata": {},
     "output_type": "execute_result"
    }
   ],
   "source": [
    "skew(registered_users_idfs)"
   ]
  },
  {
   "cell_type": "markdown",
   "metadata": {},
   "source": [
    "## Synonyms for Top Verbs by User Category"
   ]
  },
  {
   "cell_type": "code",
   "execution_count": 33,
   "metadata": {
    "collapsed": true
   },
   "outputs": [],
   "source": [
    "def get_word_synonyms(word, sent):\n",
    "    word_synonyms = []\n",
    "    for synset in wordnet.synsets(word):\n",
    "        for lemma in synset.lemma_names():\n",
    "            if lemma in sent and lemma != word:\n",
    "                word_synonyms.append(lemma)\n",
    "    \n",
    "    if len(word_synonyms) == 0:\n",
    "        return \"No synonyms found\"\n",
    "    else:\n",
    "        return \", \".join(sorted(set(word_synonyms)))"
   ]
  },
  {
   "cell_type": "code",
   "execution_count": 34,
   "metadata": {},
   "outputs": [
    {
     "name": "stdout",
     "output_type": "stream",
     "text": [
      "add\n",
      "No synonyms found\n",
      "-------------------------\n",
      "fix\n",
      "make, specify\n",
      "-------------------------\n",
      "remove\n",
      "take, transfer\n",
      "-------------------------\n",
      "correct\n",
      "adjust\n",
      "-------------------------\n",
      "change\n",
      "transfer\n",
      "-------------------------\n",
      "update\n",
      "No synonyms found\n",
      "-------------------------\n",
      "improve\n",
      "amend\n",
      "-------------------------\n",
      "make\n",
      "build, fix, form, take, work\n",
      "-------------------------\n",
      "miss\n",
      "No synonyms found\n",
      "-------------------------\n",
      "edit\n",
      "No synonyms found\n",
      "-------------------------\n"
     ]
    }
   ],
   "source": [
    "for verb in unregistered_users_verbs[:10]:\n",
    "    print(verb)\n",
    "    print(get_word_synonyms(verb, unregistered_users_verbs))\n",
    "    print(\"-------------------------\")"
   ]
  },
  {
   "cell_type": "code",
   "execution_count": 35,
   "metadata": {},
   "outputs": [
    {
     "name": "stdout",
     "output_type": "stream",
     "text": [
      "add\n",
      "No synonyms found\n",
      "-------------------------\n",
      "revert\n",
      "return\n",
      "-------------------------\n",
      "use\n",
      "No synonyms found\n",
      "-------------------------\n",
      "fix\n",
      "define, get, jam, make, repair, restore, specify\n",
      "-------------------------\n",
      "remove\n",
      "take\n",
      "-------------------------\n",
      "clean\n",
      "blank\n",
      "-------------------------\n",
      "change\n",
      "alter, convert, modify\n",
      "-------------------------\n",
      "create\n",
      "make, produce\n",
      "-------------------------\n",
      "repair\n",
      "fix, restore\n",
      "-------------------------\n",
      "surname\n",
      "No synonyms found\n",
      "-------------------------\n"
     ]
    }
   ],
   "source": [
    "for verb in registered_users_verbs[:10]:\n",
    "    print(verb)\n",
    "    print(get_word_synonyms(verb, registered_users_verbs))\n",
    "    print(\"-------------------------\")"
   ]
  },
  {
   "cell_type": "markdown",
   "metadata": {},
   "source": [
    "## Unique Verbs by User Category"
   ]
  },
  {
   "cell_type": "markdown",
   "metadata": {},
   "source": [
    "The following are lemmatised verbs used by unregistered users, not found in the set of registered user verbs."
   ]
  },
  {
   "cell_type": "code",
   "execution_count": 36,
   "metadata": {},
   "outputs": [
    {
     "data": {
      "text/plain": [
       "51"
      ]
     },
     "execution_count": 36,
     "metadata": {},
     "output_type": "execute_result"
    }
   ],
   "source": [
    "unregistered_users_unique_verbs = np.setdiff1d(unregistered_users_verbs,registered_users_verbs)\n",
    "unregistered_users_unique_verbs.size"
   ]
  },
  {
   "cell_type": "code",
   "execution_count": 37,
   "metadata": {},
   "outputs": [
    {
     "data": {
      "text/plain": [
       "array(['accompany', 'accord', 'account', 'acquire', 'allah', 'amend',\n",
       "       'anyways', 'bore', 'build', 'byh', 'call', 'capitalize', 'career',\n",
       "       'condemn', 'crew', 'cultivate', 'disestablish', 'doesnt',\n",
       "       'external', 'feminine', 'ferry', 'forget', 'form', 'found',\n",
       "       'frank', 'fred', 'gus', 'january', 'john', 'masculine', 'mcdonald',\n",
       "       'medved', 'mil', 'ongoing', 'pixel', 'ppricem', 'prove', 'refer',\n",
       "       'reflect', 'reopen', 'represent', 'require', 'reverse', 'separate',\n",
       "       'serve', 'shoot', 'sympathetic', 'transfer', 'turn', 'wait',\n",
       "       'worry'], dtype='<U12')"
      ]
     },
     "execution_count": 37,
     "metadata": {},
     "output_type": "execute_result"
    }
   ],
   "source": [
    "unregistered_users_unique_verbs"
   ]
  },
  {
   "cell_type": "markdown",
   "metadata": {},
   "source": [
    "And the equivalent for registered user verbs."
   ]
  },
  {
   "cell_type": "code",
   "execution_count": 38,
   "metadata": {},
   "outputs": [
    {
     "data": {
      "text/plain": [
       "316"
      ]
     },
     "execution_count": 38,
     "metadata": {},
     "output_type": "execute_result"
    }
   ],
   "source": [
    "registered_users_unique_verbs = np.setdiff1d(registered_users_verbs,unregistered_users_verbs)\n",
    "registered_users_unique_verbs.size"
   ]
  },
  {
   "cell_type": "code",
   "execution_count": 39,
   "metadata": {},
   "outputs": [
    {
     "data": {
      "text/plain": [
       "array(['accept', 'accuse', 'afghanistan', 'ahmed', 'alexander', 'algebra',\n",
       "       'alphabetize', 'alt', 'alter', 'alternative', 'announce', 'appear',\n",
       "       'archive', 'article', 'assault', 'assert', 'assist', 'assume',\n",
       "       'attend', 'attribute', 'avoid', 'b', 'balance', 'band', 'barbados',\n",
       "       'base', 'become', 'begin', 'biography', 'blank', 'bowl', 'brave',\n",
       "       'break', 'buy', 'c', 'caplitalized', 'caption', 'cast', 'cb', 'cc',\n",
       "       'challenge', 'chart', 'check', 'clarify', 'cleae', 'clean', 'club',\n",
       "       'colette', 'collaborate', 'columnised', 'combine', 'come', 'comey',\n",
       "       'comhindipakistan', 'commit', 'compute', 'concert', 'confirm',\n",
       "       'confuse', 'connect', 'consider', 'contain', 'continue',\n",
       "       'contract', 'convert', 'count', 'create', 'credit', 'cut', 'dash',\n",
       "       'date', 'decease', 'dedicate', 'define', 'delete', 'deorphaned',\n",
       "       'describe', 'develop', 'dickens', 'die', 'discuss', 'e', 'ed',\n",
       "       'edge', 'emfbroadcasting', 'end', 'endash', 'enjoy', 'enslave',\n",
       "       'escape', 'everton', 'ex', 'excite', 'exist', 'expand', 'explain',\n",
       "       'express', 'fa', 'fc', 'feature', 'february', 'feel', 'figure',\n",
       "       'fill', 'finalize', 'find', 'finish', 'firkins', 'flake', 'flynn',\n",
       "       'follow', 'force', 'fork', 'format', 'gain', 'galambos', 'game',\n",
       "       'get', 'gf', 'give', 'graduate', 'gross', 'happen', 'hatnote',\n",
       "       'head', 'hear', 'helper', 'highlight', 'hollins', 'hope',\n",
       "       'identify', 'ift', 'im', 'imply', 'import', 'include',\n",
       "       'incorporate', 'indicate', 'infobox', 'insert', 'inside', 'intend',\n",
       "       'invent', 'isbn', 'jam', 'june', 'keep', 'kenwal', 'kidnap',\n",
       "       'kiersten', 'kirsten', 'know', 'krumeich', 'lang', 'lead', 'learn',\n",
       "       'leave', 'leo', 'leontes', 'let', 'like', 'list', 'lock', 'look',\n",
       "       'mark', 'match', 'meet', 'mention', 'merge', 'mick', 'mineraloid',\n",
       "       'mislead', 'misread', 'misusded', 'mitch', 'mix', 'modify', 'move',\n",
       "       'name', 'natalie', 'need', 'nominate', 'non', 'occur', 'odd',\n",
       "       'odin', 'organize', 'orphan', 'outline', 'page', 'pending',\n",
       "       'perform', 'pip', 'place', 'play', 'point', 'post', 'prefer',\n",
       "       'premier', 'present', 'prevent', 'produce', 'propose', 'prose',\n",
       "       'publish', 'pull', 'push', 'quote', 'raise', 'read', 'rearrange',\n",
       "       'recharge', 'record', 'recur', 'rede', 'redirect', 'ref',\n",
       "       'reference', 'reformatting', 'refs', 'regard', 'reinstate',\n",
       "       'relate', 'release', 'remain', 'remember', 'rename', 'renowned',\n",
       "       'reorg', 'repair', 'reps', 'republic', 'request', 'rescue',\n",
       "       'research', 'reserve', 'restore', 'restructure', 'reticulate',\n",
       "       'retire', 'return', 'reunite', 'revert', 'revision', 'rewrite',\n",
       "       'rhea', 'rise', 'rm', 'rouploads', 'rv', 'rvv', 'sail', 'salix',\n",
       "       'scoping', 'script', 'sell', 'semi', 'send', 'shit', 'shortdesc',\n",
       "       'shoutcasing', 'skip', 'slang', 'smart', 'sort', 'sound', 'source',\n",
       "       'sp', 'space', 'spamming', 'spell', 'star', 'start', 'stick',\n",
       "       'stop', 'strain', 'subheading', 'suggest', 'support', 'suppress',\n",
       "       'supressed', 'surname', 'syle', 'table', 'tag', 'ted', 'template',\n",
       "       'ten', 'text', 'thetimesareachanging', 'think', 'tidy', 'tnt',\n",
       "       'tone', 'try', 'u', 'uncat', 'unchange', 'uncited', 'unneeded',\n",
       "       'unreferenced', 'unsourced', 'vanish', 'verify', 'violate', 'vs',\n",
       "       'w', 'war', 'warn', 'westjet', 'whoop', 'wikisource', 'win',\n",
       "       'wish', 'www', 'yanping'], dtype='<U20')"
      ]
     },
     "execution_count": 39,
     "metadata": {},
     "output_type": "execute_result"
    }
   ],
   "source": [
    "registered_users_unique_verbs"
   ]
  },
  {
   "cell_type": "code",
   "execution_count": null,
   "metadata": {
    "collapsed": true
   },
   "outputs": [],
   "source": []
  }
 ],
 "metadata": {
  "kernelspec": {
   "display_name": "Python 3",
   "language": "python",
   "name": "python3"
  },
  "language_info": {
   "codemirror_mode": {
    "name": "ipython",
    "version": 3
   },
   "file_extension": ".py",
   "mimetype": "text/x-python",
   "name": "python",
   "nbconvert_exporter": "python",
   "pygments_lexer": "ipython3",
   "version": "3.6.4"
  }
 },
 "nbformat": 4,
 "nbformat_minor": 2
}
